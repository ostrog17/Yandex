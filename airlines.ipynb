{
 "cells": [
  {
   "cell_type": "markdown",
   "metadata": {},
   "source": [
    "# Аналитика в авиакомпании\n",
    "\n",
    "> По материалам проекта курса от Яндекс.Практикума по анализу данных.\n",
    "\n",
    "## Описание проекта\n",
    "Для анализа представлены датасеты с информацией о рейсах, моделях самолетов, городах вылета. Необходимо импортировать файлы, изучить данные в них, проверить типы данных на корректность, выбрать топ-10 городов по количеству рейсов, построить графики: модели самолетов и количество рейсов, топ-10 городов и количество рейсов, сделать выводы по каждому из графиков, пояснить результат.\n",
    "\n",
    "## Краткое описание данных\n",
    "\n",
    "В качестве рабочих данных используются выборки из демонстрационной базы данных бронирования билетов, доступной по ссылке https://edu.postgrespro.ru/demo-small.zip"
   ]
  },
  {
   "cell_type": "code",
   "execution_count": 1,
   "metadata": {},
   "outputs": [],
   "source": [
    "import pandas as pd\n",
    "import seaborn as sns\n",
    "import matplotlib.pyplot as plt\n",
    "import warnings\n",
    "warnings.simplefilter(\"ignore\")\n",
    "\n",
    "import psycopg2"
   ]
  },
  {
   "cell_type": "code",
   "execution_count": 2,
   "metadata": {},
   "outputs": [],
   "source": [
    "conn = psycopg2.connect(dbname='demo', user='popov', password='******', host='localhost')"
   ]
  },
  {
   "cell_type": "code",
   "execution_count": 10,
   "metadata": {},
   "outputs": [],
   "source": [
    "query = \"\"\"SELECT air.model, COUNT(*)\n",
    "  FROM bookings.flights AS fl\n",
    "  JOIN bookings.aircrafts AS air\n",
    "    ON fl.aircraft_code = air.aircraft_code\n",
    "  GROUP BY air.model;\n",
    "\"\"\"\n",
    "flights = pd.read_sql(query, conn)"
   ]
  },
  {
   "cell_type": "code",
   "execution_count": 11,
   "metadata": {},
   "outputs": [
    {
     "data": {
      "text/html": [
       "<div>\n",
       "<style scoped>\n",
       "    .dataframe tbody tr th:only-of-type {\n",
       "        vertical-align: middle;\n",
       "    }\n",
       "\n",
       "    .dataframe tbody tr th {\n",
       "        vertical-align: top;\n",
       "    }\n",
       "\n",
       "    .dataframe thead th {\n",
       "        text-align: right;\n",
       "    }\n",
       "</style>\n",
       "<table border=\"1\" class=\"dataframe\">\n",
       "  <thead>\n",
       "    <tr style=\"text-align: right;\">\n",
       "      <th></th>\n",
       "      <th>model</th>\n",
       "      <th>count</th>\n",
       "    </tr>\n",
       "  </thead>\n",
       "  <tbody>\n",
       "    <tr>\n",
       "      <th>0</th>\n",
       "      <td>Bombardier CRJ-200</td>\n",
       "      <td>9048</td>\n",
       "    </tr>\n",
       "    <tr>\n",
       "      <th>1</th>\n",
       "      <td>Boeing 767-300</td>\n",
       "      <td>1221</td>\n",
       "    </tr>\n",
       "    <tr>\n",
       "      <th>2</th>\n",
       "      <td>Cessna 208 Caravan</td>\n",
       "      <td>9273</td>\n",
       "    </tr>\n",
       "    <tr>\n",
       "      <th>3</th>\n",
       "      <td>Boeing 737-300</td>\n",
       "      <td>1274</td>\n",
       "    </tr>\n",
       "    <tr>\n",
       "      <th>4</th>\n",
       "      <td>Sukhoi SuperJet-100</td>\n",
       "      <td>8504</td>\n",
       "    </tr>\n",
       "    <tr>\n",
       "      <th>5</th>\n",
       "      <td>Airbus A321-200</td>\n",
       "      <td>1952</td>\n",
       "    </tr>\n",
       "    <tr>\n",
       "      <th>6</th>\n",
       "      <td>Airbus A319-100</td>\n",
       "      <td>1239</td>\n",
       "    </tr>\n",
       "    <tr>\n",
       "      <th>7</th>\n",
       "      <td>Boeing 777-300</td>\n",
       "      <td>610</td>\n",
       "    </tr>\n",
       "  </tbody>\n",
       "</table>\n",
       "</div>"
      ],
      "text/plain": [
       "                 model  count\n",
       "0   Bombardier CRJ-200   9048\n",
       "1       Boeing 767-300   1221\n",
       "2   Cessna 208 Caravan   9273\n",
       "3       Boeing 737-300   1274\n",
       "4  Sukhoi SuperJet-100   8504\n",
       "5      Airbus A321-200   1952\n",
       "6      Airbus A319-100   1239\n",
       "7       Boeing 777-300    610"
      ]
     },
     "execution_count": 11,
     "metadata": {},
     "output_type": "execute_result"
    }
   ],
   "source": [
    "flights"
   ]
  },
  {
   "cell_type": "code",
   "execution_count": 15,
   "metadata": {},
   "outputs": [],
   "source": [
    "query = \"\"\"SELECT fl.arrival_airport, ap.city, count(*)\n",
    "  FROM bookings.flights fl\n",
    "  JOIN bookings.airports ap\n",
    "    ON ap.airport_code = fl.arrival_airport\n",
    "  GROUP BY 1, 2 \n",
    "  ORDER by 1;\n",
    "\"\"\"\n",
    "\n",
    "cities = pd.read_sql(query, conn)"
   ]
  },
  {
   "cell_type": "code",
   "execution_count": 38,
   "metadata": {},
   "outputs": [
    {
     "data": {
      "text/html": [
       "<div>\n",
       "<style scoped>\n",
       "    .dataframe tbody tr th:only-of-type {\n",
       "        vertical-align: middle;\n",
       "    }\n",
       "\n",
       "    .dataframe tbody tr th {\n",
       "        vertical-align: top;\n",
       "    }\n",
       "\n",
       "    .dataframe thead th {\n",
       "        text-align: right;\n",
       "    }\n",
       "</style>\n",
       "<table border=\"1\" class=\"dataframe\">\n",
       "  <thead>\n",
       "    <tr style=\"text-align: right;\">\n",
       "      <th></th>\n",
       "      <th>city</th>\n",
       "      <th>count</th>\n",
       "    </tr>\n",
       "  </thead>\n",
       "  <tbody>\n",
       "    <tr>\n",
       "      <th>0</th>\n",
       "      <td>Абакан</td>\n",
       "      <td>235.0</td>\n",
       "    </tr>\n",
       "    <tr>\n",
       "      <th>1</th>\n",
       "      <td>Анадырь</td>\n",
       "      <td>34.0</td>\n",
       "    </tr>\n",
       "    <tr>\n",
       "      <th>2</th>\n",
       "      <td>Анапа</td>\n",
       "      <td>131.0</td>\n",
       "    </tr>\n",
       "    <tr>\n",
       "      <th>3</th>\n",
       "      <td>Архангельск</td>\n",
       "      <td>322.0</td>\n",
       "    </tr>\n",
       "    <tr>\n",
       "      <th>4</th>\n",
       "      <td>Астрахань</td>\n",
       "      <td>148.0</td>\n",
       "    </tr>\n",
       "    <tr>\n",
       "      <th>...</th>\n",
       "      <td>...</td>\n",
       "      <td>...</td>\n",
       "    </tr>\n",
       "    <tr>\n",
       "      <th>96</th>\n",
       "      <td>Чита</td>\n",
       "      <td>96.0</td>\n",
       "    </tr>\n",
       "    <tr>\n",
       "      <th>97</th>\n",
       "      <td>Элиста</td>\n",
       "      <td>296.0</td>\n",
       "    </tr>\n",
       "    <tr>\n",
       "      <th>98</th>\n",
       "      <td>Южно-Сахалинск</td>\n",
       "      <td>262.0</td>\n",
       "    </tr>\n",
       "    <tr>\n",
       "      <th>99</th>\n",
       "      <td>Якутск</td>\n",
       "      <td>167.0</td>\n",
       "    </tr>\n",
       "    <tr>\n",
       "      <th>100</th>\n",
       "      <td>Ярославль</td>\n",
       "      <td>79.0</td>\n",
       "    </tr>\n",
       "  </tbody>\n",
       "</table>\n",
       "<p>101 rows × 2 columns</p>\n",
       "</div>"
      ],
      "text/plain": [
       "               city  count\n",
       "0            Абакан  235.0\n",
       "1           Анадырь   34.0\n",
       "2             Анапа  131.0\n",
       "3       Архангельск  322.0\n",
       "4         Астрахань  148.0\n",
       "..              ...    ...\n",
       "96             Чита   96.0\n",
       "97           Элиста  296.0\n",
       "98   Южно-Сахалинск  262.0\n",
       "99           Якутск  167.0\n",
       "100       Ярославль   79.0\n",
       "\n",
       "[101 rows x 2 columns]"
      ]
     },
     "execution_count": 38,
     "metadata": {},
     "output_type": "execute_result"
    }
   ],
   "source": [
    "flights_cities = cities.pivot_table(index='city', values='count', aggfunc='mean').reset_index()\n",
    "flights_cities"
   ]
  },
  {
   "cell_type": "markdown",
   "metadata": {},
   "source": [
    "## Исследовательский анализ данных"
   ]
  },
  {
   "cell_type": "markdown",
   "metadata": {},
   "source": [
    "### Анализ взаимосвязи моделей самолетов и количества рейсов"
   ]
  },
  {
   "cell_type": "code",
   "execution_count": 40,
   "metadata": {},
   "outputs": [
    {
     "data": {
      "text/html": [
       "<div>\n",
       "<style scoped>\n",
       "    .dataframe tbody tr th:only-of-type {\n",
       "        vertical-align: middle;\n",
       "    }\n",
       "\n",
       "    .dataframe tbody tr th {\n",
       "        vertical-align: top;\n",
       "    }\n",
       "\n",
       "    .dataframe thead th {\n",
       "        text-align: right;\n",
       "    }\n",
       "</style>\n",
       "<table border=\"1\" class=\"dataframe\">\n",
       "  <thead>\n",
       "    <tr style=\"text-align: right;\">\n",
       "      <th></th>\n",
       "      <th>model</th>\n",
       "      <th>count</th>\n",
       "      <th>percentage_of_flights</th>\n",
       "    </tr>\n",
       "  </thead>\n",
       "  <tbody>\n",
       "    <tr>\n",
       "      <th>0</th>\n",
       "      <td>Bombardier CRJ-200</td>\n",
       "      <td>9048</td>\n",
       "      <td>27.318016</td>\n",
       "    </tr>\n",
       "    <tr>\n",
       "      <th>1</th>\n",
       "      <td>Boeing 767-300</td>\n",
       "      <td>1221</td>\n",
       "      <td>3.686483</td>\n",
       "    </tr>\n",
       "    <tr>\n",
       "      <th>2</th>\n",
       "      <td>Cessna 208 Caravan</td>\n",
       "      <td>9273</td>\n",
       "      <td>27.997343</td>\n",
       "    </tr>\n",
       "    <tr>\n",
       "      <th>3</th>\n",
       "      <td>Boeing 737-300</td>\n",
       "      <td>1274</td>\n",
       "      <td>3.846502</td>\n",
       "    </tr>\n",
       "    <tr>\n",
       "      <th>4</th>\n",
       "      <td>Sukhoi SuperJet-100</td>\n",
       "      <td>8504</td>\n",
       "      <td>25.675553</td>\n",
       "    </tr>\n",
       "    <tr>\n",
       "      <th>5</th>\n",
       "      <td>Airbus A321-200</td>\n",
       "      <td>1952</td>\n",
       "      <td>5.893542</td>\n",
       "    </tr>\n",
       "    <tr>\n",
       "      <th>6</th>\n",
       "      <td>Airbus A319-100</td>\n",
       "      <td>1239</td>\n",
       "      <td>3.740829</td>\n",
       "    </tr>\n",
       "    <tr>\n",
       "      <th>7</th>\n",
       "      <td>Boeing 777-300</td>\n",
       "      <td>610</td>\n",
       "      <td>1.841732</td>\n",
       "    </tr>\n",
       "  </tbody>\n",
       "</table>\n",
       "</div>"
      ],
      "text/plain": [
       "                 model  count  percentage_of_flights\n",
       "0   Bombardier CRJ-200   9048              27.318016\n",
       "1       Boeing 767-300   1221               3.686483\n",
       "2   Cessna 208 Caravan   9273              27.997343\n",
       "3       Boeing 737-300   1274               3.846502\n",
       "4  Sukhoi SuperJet-100   8504              25.675553\n",
       "5      Airbus A321-200   1952               5.893542\n",
       "6      Airbus A319-100   1239               3.740829\n",
       "7       Boeing 777-300    610               1.841732"
      ]
     },
     "execution_count": 40,
     "metadata": {},
     "output_type": "execute_result"
    }
   ],
   "source": [
    "#добавление столбца с % полетов с разными моделями\n",
    "flights['percentage_of_flights'] = flights['count'] * 100 / flights['count'].sum()\n",
    "flights"
   ]
  },
  {
   "cell_type": "markdown",
   "metadata": {},
   "source": [
    "Сгруппируем датафрейм по маркам моделей авиалайнеров."
   ]
  },
  {
   "cell_type": "code",
   "execution_count": 62,
   "metadata": {},
   "outputs": [
    {
     "data": {
      "text/html": [
       "<div>\n",
       "<style scoped>\n",
       "    .dataframe tbody tr th:only-of-type {\n",
       "        vertical-align: middle;\n",
       "    }\n",
       "\n",
       "    .dataframe tbody tr th {\n",
       "        vertical-align: top;\n",
       "    }\n",
       "\n",
       "    .dataframe thead th {\n",
       "        text-align: right;\n",
       "    }\n",
       "</style>\n",
       "<table border=\"1\" class=\"dataframe\">\n",
       "  <thead>\n",
       "    <tr style=\"text-align: right;\">\n",
       "      <th></th>\n",
       "      <th>aircraft_group</th>\n",
       "      <th>count</th>\n",
       "      <th>percentage_of_flights</th>\n",
       "    </tr>\n",
       "  </thead>\n",
       "  <tbody>\n",
       "    <tr>\n",
       "      <th>0</th>\n",
       "      <td>Cessna</td>\n",
       "      <td>9273</td>\n",
       "      <td>27.997343</td>\n",
       "    </tr>\n",
       "    <tr>\n",
       "      <th>1</th>\n",
       "      <td>Bombardier</td>\n",
       "      <td>9048</td>\n",
       "      <td>27.318016</td>\n",
       "    </tr>\n",
       "    <tr>\n",
       "      <th>2</th>\n",
       "      <td>Sukhoi</td>\n",
       "      <td>8504</td>\n",
       "      <td>25.675553</td>\n",
       "    </tr>\n",
       "    <tr>\n",
       "      <th>3</th>\n",
       "      <td>Airbus</td>\n",
       "      <td>3191</td>\n",
       "      <td>9.634371</td>\n",
       "    </tr>\n",
       "    <tr>\n",
       "      <th>4</th>\n",
       "      <td>Boeing</td>\n",
       "      <td>3105</td>\n",
       "      <td>9.374717</td>\n",
       "    </tr>\n",
       "  </tbody>\n",
       "</table>\n",
       "</div>"
      ],
      "text/plain": [
       "  aircraft_group  count  percentage_of_flights\n",
       "0         Cessna   9273              27.997343\n",
       "1     Bombardier   9048              27.318016\n",
       "2         Sukhoi   8504              25.675553\n",
       "3         Airbus   3191               9.634371\n",
       "4         Boeing   3105               9.374717"
      ]
     },
     "execution_count": 62,
     "metadata": {},
     "output_type": "execute_result"
    }
   ],
   "source": [
    "grouped_aircrafts = flights.groupby(flights.model.str.split(' ', 1, expand=True)[0]).sum() \\\n",
    "                                                 .sort_values(by='count', ascending=False) \\\n",
    "                                                 .reset_index() \\\n",
    "                                                 .rename({0: 'aircraft_group'}, axis='columns')\n",
    "grouped_aircrafts"
   ]
  },
  {
   "cell_type": "markdown",
   "metadata": {},
   "source": [
    "Для визуальной оценки взаимосвязи количества рейсов и типа моделей на основании данных датасета `grouped_aircrafts` построим график распределения полетов."
   ]
  },
  {
   "cell_type": "code",
   "execution_count": 63,
   "metadata": {},
   "outputs": [],
   "source": [
    "sns.set(style=\"white\")\n",
    "sns.set(style=\"whitegrid\", color_codes=True)"
   ]
  },
  {
   "cell_type": "code",
   "execution_count": 141,
   "metadata": {},
   "outputs": [
    {
     "data": {
      "image/png": "[encoded data removed]",
      "text/plain": [
       "<Figure size 648x432 with 1 Axes>"
      ]
     },
     "metadata": {},
     "output_type": "display_data"
    }
   ],
   "source": [
    "# построение графика количества полетов самолетов разных моделей\n",
    "fig = plt.figure(figsize=(9, 6))\n",
    "# добавление одного графика на иллюстрацию\n",
    "ax = fig.add_subplot()\n",
    "# создание графика\n",
    "sns.barplot(x='aircraft_group', y='count', data=grouped_aircrafts, ax=ax)\n",
    "# создание названий\n",
    "ax.set_xlabel('Группы воздушных суден')\n",
    "ax.set_ylabel('Количество полетов')\n",
    "ax.set_title('Количество полетов самолетов разных моделей', fontsize=15);"
   ]
  },
  {
   "cell_type": "markdown",
   "metadata": {},
   "source": [
    "Выделим классы воздушных судов в зависимости от их вместимости. Разделим все самолеты на комммерческие и общего пользования.\n",
    "\n",
    "Для этого посчитаем количество мест для каждой модели.\n",
    "\n",
    "К деловой авиации отнесем все машины с вместимостью более 20 пасажиромест."
   ]
  },
  {
   "cell_type": "code",
   "execution_count": 72,
   "metadata": {},
   "outputs": [
    {
     "data": {
      "text/html": [
       "<div>\n",
       "<style scoped>\n",
       "    .dataframe tbody tr th:only-of-type {\n",
       "        vertical-align: middle;\n",
       "    }\n",
       "\n",
       "    .dataframe tbody tr th {\n",
       "        vertical-align: top;\n",
       "    }\n",
       "\n",
       "    .dataframe thead th {\n",
       "        text-align: right;\n",
       "    }\n",
       "</style>\n",
       "<table border=\"1\" class=\"dataframe\">\n",
       "  <thead>\n",
       "    <tr style=\"text-align: right;\">\n",
       "      <th></th>\n",
       "      <th>model</th>\n",
       "      <th>seats</th>\n",
       "    </tr>\n",
       "  </thead>\n",
       "  <tbody>\n",
       "    <tr>\n",
       "      <th>0</th>\n",
       "      <td>Bombardier CRJ-200</td>\n",
       "      <td>50</td>\n",
       "    </tr>\n",
       "    <tr>\n",
       "      <th>1</th>\n",
       "      <td>Boeing 767-300</td>\n",
       "      <td>222</td>\n",
       "    </tr>\n",
       "    <tr>\n",
       "      <th>2</th>\n",
       "      <td>Cessna 208 Caravan</td>\n",
       "      <td>12</td>\n",
       "    </tr>\n",
       "    <tr>\n",
       "      <th>3</th>\n",
       "      <td>Boeing 737-300</td>\n",
       "      <td>130</td>\n",
       "    </tr>\n",
       "    <tr>\n",
       "      <th>4</th>\n",
       "      <td>Sukhoi SuperJet-100</td>\n",
       "      <td>97</td>\n",
       "    </tr>\n",
       "    <tr>\n",
       "      <th>5</th>\n",
       "      <td>Airbus A321-200</td>\n",
       "      <td>170</td>\n",
       "    </tr>\n",
       "    <tr>\n",
       "      <th>6</th>\n",
       "      <td>Airbus A319-100</td>\n",
       "      <td>116</td>\n",
       "    </tr>\n",
       "    <tr>\n",
       "      <th>7</th>\n",
       "      <td>Boeing 777-300</td>\n",
       "      <td>402</td>\n",
       "    </tr>\n",
       "    <tr>\n",
       "      <th>8</th>\n",
       "      <td>Airbus A320-200</td>\n",
       "      <td>140</td>\n",
       "    </tr>\n",
       "  </tbody>\n",
       "</table>\n",
       "</div>"
      ],
      "text/plain": [
       "                 model  seats\n",
       "0   Bombardier CRJ-200     50\n",
       "1       Boeing 767-300    222\n",
       "2   Cessna 208 Caravan     12\n",
       "3       Boeing 737-300    130\n",
       "4  Sukhoi SuperJet-100     97\n",
       "5      Airbus A321-200    170\n",
       "6      Airbus A319-100    116\n",
       "7       Boeing 777-300    402\n",
       "8      Airbus A320-200    140"
      ]
     },
     "execution_count": 72,
     "metadata": {},
     "output_type": "execute_result"
    }
   ],
   "source": [
    "query = \"\"\"SELECT air.model, count(*) AS seats\n",
    "  FROM bookings.seats st\n",
    "  JOIN bookings.aircrafts air\n",
    "    ON st.aircraft_code = air.aircraft_code\n",
    "  GROUP BY air.model;\n",
    "\"\"\"\n",
    "\n",
    "seats = pd.read_sql(query, conn)\n",
    "seats"
   ]
  },
  {
   "cell_type": "code",
   "execution_count": 92,
   "metadata": {},
   "outputs": [],
   "source": [
    "import numpy as np\n",
    "seats['type'] = np.where(seats.seats < 20, 'коммерческая', 'общего назначения')"
   ]
  },
  {
   "cell_type": "code",
   "execution_count": 99,
   "metadata": {},
   "outputs": [
    {
     "data": {
      "text/html": [
       "<div>\n",
       "<style scoped>\n",
       "    .dataframe tbody tr th:only-of-type {\n",
       "        vertical-align: middle;\n",
       "    }\n",
       "\n",
       "    .dataframe tbody tr th {\n",
       "        vertical-align: top;\n",
       "    }\n",
       "\n",
       "    .dataframe thead th {\n",
       "        text-align: right;\n",
       "    }\n",
       "</style>\n",
       "<table border=\"1\" class=\"dataframe\">\n",
       "  <thead>\n",
       "    <tr style=\"text-align: right;\">\n",
       "      <th></th>\n",
       "      <th>model</th>\n",
       "      <th>count</th>\n",
       "      <th>percentage_of_flights</th>\n",
       "      <th>seats</th>\n",
       "      <th>type</th>\n",
       "    </tr>\n",
       "  </thead>\n",
       "  <tbody>\n",
       "    <tr>\n",
       "      <th>0</th>\n",
       "      <td>Bombardier CRJ-200</td>\n",
       "      <td>9048</td>\n",
       "      <td>27.318016</td>\n",
       "      <td>50</td>\n",
       "      <td>общего назначения</td>\n",
       "    </tr>\n",
       "    <tr>\n",
       "      <th>1</th>\n",
       "      <td>Boeing 767-300</td>\n",
       "      <td>1221</td>\n",
       "      <td>3.686483</td>\n",
       "      <td>222</td>\n",
       "      <td>общего назначения</td>\n",
       "    </tr>\n",
       "    <tr>\n",
       "      <th>2</th>\n",
       "      <td>Cessna 208 Caravan</td>\n",
       "      <td>9273</td>\n",
       "      <td>27.997343</td>\n",
       "      <td>12</td>\n",
       "      <td>коммерческая</td>\n",
       "    </tr>\n",
       "    <tr>\n",
       "      <th>3</th>\n",
       "      <td>Boeing 737-300</td>\n",
       "      <td>1274</td>\n",
       "      <td>3.846502</td>\n",
       "      <td>130</td>\n",
       "      <td>общего назначения</td>\n",
       "    </tr>\n",
       "    <tr>\n",
       "      <th>4</th>\n",
       "      <td>Sukhoi SuperJet-100</td>\n",
       "      <td>8504</td>\n",
       "      <td>25.675553</td>\n",
       "      <td>97</td>\n",
       "      <td>общего назначения</td>\n",
       "    </tr>\n",
       "    <tr>\n",
       "      <th>5</th>\n",
       "      <td>Airbus A321-200</td>\n",
       "      <td>1952</td>\n",
       "      <td>5.893542</td>\n",
       "      <td>170</td>\n",
       "      <td>общего назначения</td>\n",
       "    </tr>\n",
       "    <tr>\n",
       "      <th>6</th>\n",
       "      <td>Airbus A319-100</td>\n",
       "      <td>1239</td>\n",
       "      <td>3.740829</td>\n",
       "      <td>116</td>\n",
       "      <td>общего назначения</td>\n",
       "    </tr>\n",
       "    <tr>\n",
       "      <th>7</th>\n",
       "      <td>Boeing 777-300</td>\n",
       "      <td>610</td>\n",
       "      <td>1.841732</td>\n",
       "      <td>402</td>\n",
       "      <td>общего назначения</td>\n",
       "    </tr>\n",
       "  </tbody>\n",
       "</table>\n",
       "</div>"
      ],
      "text/plain": [
       "                 model  count  percentage_of_flights  seats               type\n",
       "0   Bombardier CRJ-200   9048              27.318016     50  общего назначения\n",
       "1       Boeing 767-300   1221               3.686483    222  общего назначения\n",
       "2   Cessna 208 Caravan   9273              27.997343     12       коммерческая\n",
       "3       Boeing 737-300   1274               3.846502    130  общего назначения\n",
       "4  Sukhoi SuperJet-100   8504              25.675553     97  общего назначения\n",
       "5      Airbus A321-200   1952               5.893542    170  общего назначения\n",
       "6      Airbus A319-100   1239               3.740829    116  общего назначения\n",
       "7       Boeing 777-300    610               1.841732    402  общего назначения"
      ]
     },
     "execution_count": 99,
     "metadata": {},
     "output_type": "execute_result"
    }
   ],
   "source": [
    "flights_types = flights.merge(seats, on='model')\n",
    "flights_types"
   ]
  },
  {
   "cell_type": "code",
   "execution_count": 140,
   "metadata": {},
   "outputs": [],
   "source": [
    "plt.pie?"
   ]
  },
  {
   "cell_type": "code",
   "execution_count": 136,
   "metadata": {},
   "outputs": [
    {
     "data": {
      "image/png": "[encoded data removed]",
      "text/plain": [
       "<Figure size 432x432 with 1 Axes>"
      ]
     },
     "metadata": {},
     "output_type": "display_data"
    }
   ],
   "source": [
    "# cоздание круговой диаграммы типов авиации\n",
    "\n",
    "flights_types_grouped = flights_types.groupby('type')\n",
    "fig = plt.figure(figsize=(6, 6))\n",
    "plt.pie(flights_types_grouped['count'].sum(),\n",
    "             labels=flights_types_grouped['percentage_of_flights'].sum().round(2), labeldistance=.5)\n",
    "plt.title('Количество полетов самолетов разных типов авиации', fontsize=15)\n",
    "plt.legend(flights_types_grouped.groups.keys(), loc=4);"
   ]
  },
  {
   "cell_type": "markdown",
   "metadata": {},
   "source": [
    "В таблице для удобства все сведения о моделях Airbus и Boeing были объединены, значения отсортированы по убыванию и построена диаграмма с количеством полетов разных моделей. После чего было принято решение проанализировать количество самолетов, относящихся к разным типам авиации — малой (до 9 мест, в основном частные и учебные полеты), деловой (до 20 мест, в основном корпоративные перелеты, перелеты официальных лиц и тд) и общего назначения (более 20 мест в самолете). Несмотря на то, что деловая и малая авиация занимают значительный сегмент полетов, однако все же полеты общего назначения представляют наибольшее количество полетов (72%)."
   ]
  },
  {
   "cell_type": "markdown",
   "metadata": {},
   "source": [
    "## Анализ взаимосвязи города расположения аэропорта и количества рейсов"
   ]
  },
  {
   "cell_type": "markdown",
   "metadata": {},
   "source": [
    "### Выбор топ-10 городов по количеству рейсов"
   ]
  },
  {
   "cell_type": "code",
   "execution_count": 145,
   "metadata": {},
   "outputs": [
    {
     "data": {
      "text/html": [
       "<div>\n",
       "<style scoped>\n",
       "    .dataframe tbody tr th:only-of-type {\n",
       "        vertical-align: middle;\n",
       "    }\n",
       "\n",
       "    .dataframe tbody tr th {\n",
       "        vertical-align: top;\n",
       "    }\n",
       "\n",
       "    .dataframe thead th {\n",
       "        text-align: right;\n",
       "    }\n",
       "</style>\n",
       "<table border=\"1\" class=\"dataframe\">\n",
       "  <thead>\n",
       "    <tr style=\"text-align: right;\">\n",
       "      <th></th>\n",
       "      <th>city</th>\n",
       "      <th>count</th>\n",
       "      <th>percentage_of_flights</th>\n",
       "    </tr>\n",
       "  </thead>\n",
       "  <tbody>\n",
       "    <tr>\n",
       "      <th>43</th>\n",
       "      <td>Москва</td>\n",
       "      <td>2638.666667</td>\n",
       "      <td>9.577158</td>\n",
       "    </tr>\n",
       "    <tr>\n",
       "      <th>70</th>\n",
       "      <td>Санкт-Петербург</td>\n",
       "      <td>1902.000000</td>\n",
       "      <td>6.903394</td>\n",
       "    </tr>\n",
       "    <tr>\n",
       "      <th>54</th>\n",
       "      <td>Новосибирск</td>\n",
       "      <td>1055.000000</td>\n",
       "      <td>3.829169</td>\n",
       "    </tr>\n",
       "    <tr>\n",
       "      <th>33</th>\n",
       "      <td>Красноярск</td>\n",
       "      <td>707.000000</td>\n",
       "      <td>2.566088</td>\n",
       "    </tr>\n",
       "    <tr>\n",
       "      <th>20</th>\n",
       "      <td>Екатеринбург</td>\n",
       "      <td>688.000000</td>\n",
       "      <td>2.497127</td>\n",
       "    </tr>\n",
       "    <tr>\n",
       "      <th>67</th>\n",
       "      <td>Ростов-на-Дону</td>\n",
       "      <td>620.000000</td>\n",
       "      <td>2.250318</td>\n",
       "    </tr>\n",
       "    <tr>\n",
       "      <th>63</th>\n",
       "      <td>Пермь</td>\n",
       "      <td>619.000000</td>\n",
       "      <td>2.246688</td>\n",
       "    </tr>\n",
       "    <tr>\n",
       "      <th>10</th>\n",
       "      <td>Брянск</td>\n",
       "      <td>610.000000</td>\n",
       "      <td>2.214022</td>\n",
       "    </tr>\n",
       "    <tr>\n",
       "      <th>74</th>\n",
       "      <td>Сочи</td>\n",
       "      <td>584.000000</td>\n",
       "      <td>2.119654</td>\n",
       "    </tr>\n",
       "    <tr>\n",
       "      <th>73</th>\n",
       "      <td>Советский</td>\n",
       "      <td>549.000000</td>\n",
       "      <td>1.992620</td>\n",
       "    </tr>\n",
       "  </tbody>\n",
       "</table>\n",
       "</div>"
      ],
      "text/plain": [
       "               city        count  percentage_of_flights\n",
       "43           Москва  2638.666667               9.577158\n",
       "70  Санкт-Петербург  1902.000000               6.903394\n",
       "54      Новосибирск  1055.000000               3.829169\n",
       "33       Красноярск   707.000000               2.566088\n",
       "20     Екатеринбург   688.000000               2.497127\n",
       "67   Ростов-на-Дону   620.000000               2.250318\n",
       "63            Пермь   619.000000               2.246688\n",
       "10           Брянск   610.000000               2.214022\n",
       "74             Сочи   584.000000               2.119654\n",
       "73        Советский   549.000000               1.992620"
      ]
     },
     "execution_count": 145,
     "metadata": {},
     "output_type": "execute_result"
    }
   ],
   "source": [
    "top10 = flights_cities.sort_values(by='count', ascending=False)[:10]\n",
    "top10"
   ]
  },
  {
   "cell_type": "code",
   "execution_count": 149,
   "metadata": {},
   "outputs": [
    {
     "data": {
      "image/png": "[encoded data removed]",
      "text/plain": [
       "<Figure size 648x432 with 1 Axes>"
      ]
     },
     "metadata": {},
     "output_type": "display_data"
    }
   ],
   "source": [
    "# построение графика количества полетов в топ-10 городов России\n",
    "fig = plt.figure(figsize=(9, 6))\n",
    "ax = fig.add_subplot()\n",
    "# создание графика\n",
    "sns.barplot(x='city', y='count', data=top10, ax=ax)\n",
    "# создание названий\n",
    "plt.xticks(rotation=45)\n",
    "ax.set_xlabel('Города')\n",
    "ax.set_ylabel('Количество полетов')\n",
    "ax.set_title('Количество полетов самолетов в разные города', fontsize=15);"
   ]
  },
  {
   "cell_type": "markdown",
   "metadata": {},
   "source": [
    "Наиболее нагруженными на период исследования являются аэропорты Москвы, Санкт-Петербурга, Новосибирска, Красноярска, Екатеринбурга, Ростов-на-Дону, Сочи. Самыми гостепреимными стали (10% вылетов) аэропорты Москвы, также заметный процент авиаперелетов в Санкт-Петербург и Новосибирск, что связано как с высоким населением этих городов, так и с осуществлением пересадочных рейсов в них."
   ]
  }
 ],
 "metadata": {
  "kernelspec": {
   "display_name": "Python 3",
   "language": "python",
   "name": "python3"
  },
  "language_info": {
   "codemirror_mode": {
    "name": "ipython",
    "version": 3
   },
   "file_extension": ".py",
   "mimetype": "text/x-python",
   "name": "python",
   "nbconvert_exporter": "python",
   "pygments_lexer": "ipython3",
   "version": "3.8.3"
  }
 },
 "nbformat": 4,
 "nbformat_minor": 4
}
